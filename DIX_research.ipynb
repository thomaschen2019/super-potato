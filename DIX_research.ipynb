{
 "cells": [
  {
   "cell_type": "code",
   "execution_count": 1,
   "metadata": {},
   "outputs": [],
   "source": [
    "import pandas as pd\n",
    "import numpy as np\n",
    "import matplotlib.pyplot as plt\n",
    "import sqlalchemy as db"
   ]
  },
  {
   "cell_type": "markdown",
   "metadata": {},
   "source": [
    "# Processing Data"
   ]
  },
  {
   "cell_type": "code",
   "execution_count": 2,
   "metadata": {},
   "outputs": [],
   "source": [
    "def get_all_stock():\n",
    "    con = db.create_engine(\"sqlite:///C:/Users/zheji/Desktop/TradingTools/dailyDB.sqlite\")\n",
    "    dfs = []\n",
    "    for table in con.table_names():\n",
    "        tmp = pd.read_sql(table, con)\n",
    "        tmp['ticker'] = table\n",
    "        tmp['1dayret%'] = (tmp['Adj Close'] - tmp['Adj Close'].shift(1))/tmp['Adj Close'].shift(1) * 100\n",
    "        tmp['nextdayret%'] = (tmp['Adj Close'].shift(-1) - tmp['Adj Close'])/ tmp['Adj Close'] * 100\n",
    "        tmp['nextdayrange'] = ()\n",
    "        tmp['relativeVol'] = tmp['Volume'] / tmp['Volume'].rolling(20).mean()\n",
    "        dfs.append(tmp)\n",
    "    return pd.concat(dfs)\n",
    "stock_df = get_all_stock()"
   ]
  },
  {
   "cell_type": "code",
   "execution_count": 3,
   "metadata": {},
   "outputs": [],
   "source": [
    "con1 = db.create_engine('sqlite:///'+'shortDB'+'.sqlite')\n",
    "ts = pd.read_sql_query('SELECT * from DARK', con1)\n",
    "con2 = db.create_engine('sqlite:///'+'shortDB'+'.sqlite')\n",
    "ts_lit = pd.read_sql_query('SELECT * from Lit', con2)\n",
    "ts = ts.drop_duplicates()\n",
    "ts_lit = ts_lit.drop_duplicates()"
   ]
  },
  {
   "cell_type": "code",
   "execution_count": 4,
   "metadata": {},
   "outputs": [],
   "source": [
    "short = pd.merge(ts, ts_lit, left_on=['Date', 'Symbol'], right_on=['Date', 'Symbol'], how='inner')  # cboe + finra \n",
    "view = pd.merge(short, stock_df, left_on=['Date', 'Symbol'], right_on=['Date', 'ticker'], how='inner') # cboe + finra + stock"
   ]
  },
  {
   "cell_type": "code",
   "execution_count": 5,
   "metadata": {},
   "outputs": [
    {
     "data": {
      "text/html": [
       "<div>\n",
       "<style scoped>\n",
       "    .dataframe tbody tr th:only-of-type {\n",
       "        vertical-align: middle;\n",
       "    }\n",
       "\n",
       "    .dataframe tbody tr th {\n",
       "        vertical-align: top;\n",
       "    }\n",
       "\n",
       "    .dataframe thead th {\n",
       "        text-align: right;\n",
       "    }\n",
       "</style>\n",
       "<table border=\"1\" class=\"dataframe\">\n",
       "  <thead>\n",
       "    <tr style=\"text-align: right;\">\n",
       "      <th></th>\n",
       "      <th>index_x</th>\n",
       "      <th>Symbol</th>\n",
       "      <th>NASDAQCAR_ShortVolume</th>\n",
       "      <th>NASDAQCAR_TotalVolume</th>\n",
       "      <th>NYSE_ShortVolume</th>\n",
       "      <th>NYSE_TotalVolume</th>\n",
       "      <th>Date</th>\n",
       "      <th>NMS_ShortVolume</th>\n",
       "      <th>NMS_TotalVolume</th>\n",
       "      <th>NASDAQCAR_ShortRatio</th>\n",
       "      <th>...</th>\n",
       "      <th>High</th>\n",
       "      <th>Low</th>\n",
       "      <th>Close</th>\n",
       "      <th>Adj Close</th>\n",
       "      <th>Volume</th>\n",
       "      <th>ticker</th>\n",
       "      <th>1dayret%</th>\n",
       "      <th>nextdayret%</th>\n",
       "      <th>Lit_VolumeRatio</th>\n",
       "      <th>Dark_VolumeRatio</th>\n",
       "    </tr>\n",
       "  </thead>\n",
       "  <tbody>\n",
       "    <tr>\n",
       "      <th>0</th>\n",
       "      <td>0</td>\n",
       "      <td>A</td>\n",
       "      <td>89508.0</td>\n",
       "      <td>412346.0</td>\n",
       "      <td>36071.0</td>\n",
       "      <td>146290.0</td>\n",
       "      <td>2019-02-20</td>\n",
       "      <td>125579.0</td>\n",
       "      <td>558636.0</td>\n",
       "      <td>0.217070</td>\n",
       "      <td>...</td>\n",
       "      <td>78.800003</td>\n",
       "      <td>77.330002</td>\n",
       "      <td>78.559998</td>\n",
       "      <td>77.697357</td>\n",
       "      <td>2076500.0</td>\n",
       "      <td>A</td>\n",
       "      <td>1.341609</td>\n",
       "      <td>-0.852852</td>\n",
       "      <td>0.125743</td>\n",
       "      <td>0.269028</td>\n",
       "    </tr>\n",
       "    <tr>\n",
       "      <th>1</th>\n",
       "      <td>5</td>\n",
       "      <td>AAL</td>\n",
       "      <td>844109.0</td>\n",
       "      <td>1372781.0</td>\n",
       "      <td>319835.0</td>\n",
       "      <td>584804.0</td>\n",
       "      <td>2019-02-20</td>\n",
       "      <td>1163944.0</td>\n",
       "      <td>1957585.0</td>\n",
       "      <td>0.614890</td>\n",
       "      <td>...</td>\n",
       "      <td>35.240002</td>\n",
       "      <td>34.770000</td>\n",
       "      <td>35.060001</td>\n",
       "      <td>34.596169</td>\n",
       "      <td>6969900.0</td>\n",
       "      <td>AAL</td>\n",
       "      <td>-1.155894</td>\n",
       "      <td>-0.228190</td>\n",
       "      <td>0.165140</td>\n",
       "      <td>0.280863</td>\n",
       "    </tr>\n",
       "    <tr>\n",
       "      <th>2</th>\n",
       "      <td>9</td>\n",
       "      <td>AAP</td>\n",
       "      <td>272139.0</td>\n",
       "      <td>469307.0</td>\n",
       "      <td>18423.0</td>\n",
       "      <td>54741.0</td>\n",
       "      <td>2019-02-20</td>\n",
       "      <td>290562.0</td>\n",
       "      <td>524048.0</td>\n",
       "      <td>0.579874</td>\n",
       "      <td>...</td>\n",
       "      <td>167.029999</td>\n",
       "      <td>162.589996</td>\n",
       "      <td>166.000000</td>\n",
       "      <td>165.279968</td>\n",
       "      <td>1990200.0</td>\n",
       "      <td>AAP</td>\n",
       "      <td>-0.682054</td>\n",
       "      <td>-2.825314</td>\n",
       "      <td>0.123362</td>\n",
       "      <td>0.263314</td>\n",
       "    </tr>\n",
       "    <tr>\n",
       "      <th>3</th>\n",
       "      <td>10</td>\n",
       "      <td>AAPL</td>\n",
       "      <td>2626567.0</td>\n",
       "      <td>5520623.0</td>\n",
       "      <td>1587174.0</td>\n",
       "      <td>3256997.0</td>\n",
       "      <td>2019-02-20</td>\n",
       "      <td>4213741.0</td>\n",
       "      <td>8777620.0</td>\n",
       "      <td>0.475774</td>\n",
       "      <td>...</td>\n",
       "      <td>173.320007</td>\n",
       "      <td>170.990005</td>\n",
       "      <td>172.029999</td>\n",
       "      <td>169.807388</td>\n",
       "      <td>26114400.0</td>\n",
       "      <td>AAPL</td>\n",
       "      <td>0.643545</td>\n",
       "      <td>-0.563850</td>\n",
       "      <td>0.121747</td>\n",
       "      <td>0.336122</td>\n",
       "    </tr>\n",
       "    <tr>\n",
       "      <th>4</th>\n",
       "      <td>18</td>\n",
       "      <td>ABBV</td>\n",
       "      <td>435128.0</td>\n",
       "      <td>1587068.0</td>\n",
       "      <td>39094.0</td>\n",
       "      <td>260434.0</td>\n",
       "      <td>2019-02-20</td>\n",
       "      <td>474222.0</td>\n",
       "      <td>1847502.0</td>\n",
       "      <td>0.274171</td>\n",
       "      <td>...</td>\n",
       "      <td>80.599998</td>\n",
       "      <td>79.139999</td>\n",
       "      <td>79.989998</td>\n",
       "      <td>73.424461</td>\n",
       "      <td>5564100.0</td>\n",
       "      <td>ABBV</td>\n",
       "      <td>-0.658219</td>\n",
       "      <td>-1.550194</td>\n",
       "      <td>0.118325</td>\n",
       "      <td>0.332040</td>\n",
       "    </tr>\n",
       "  </tbody>\n",
       "</table>\n",
       "<p>5 rows × 42 columns</p>\n",
       "</div>"
      ],
      "text/plain": [
       "   index_x Symbol  NASDAQCAR_ShortVolume  NASDAQCAR_TotalVolume  \\\n",
       "0        0      A                89508.0               412346.0   \n",
       "1        5    AAL               844109.0              1372781.0   \n",
       "2        9    AAP               272139.0               469307.0   \n",
       "3       10   AAPL              2626567.0              5520623.0   \n",
       "4       18   ABBV               435128.0              1587068.0   \n",
       "\n",
       "   NYSE_ShortVolume  NYSE_TotalVolume        Date  NMS_ShortVolume  \\\n",
       "0           36071.0          146290.0  2019-02-20         125579.0   \n",
       "1          319835.0          584804.0  2019-02-20        1163944.0   \n",
       "2           18423.0           54741.0  2019-02-20         290562.0   \n",
       "3         1587174.0         3256997.0  2019-02-20        4213741.0   \n",
       "4           39094.0          260434.0  2019-02-20         474222.0   \n",
       "\n",
       "   NMS_TotalVolume  NASDAQCAR_ShortRatio  ...        High         Low  \\\n",
       "0         558636.0              0.217070  ...   78.800003   77.330002   \n",
       "1        1957585.0              0.614890  ...   35.240002   34.770000   \n",
       "2         524048.0              0.579874  ...  167.029999  162.589996   \n",
       "3        8777620.0              0.475774  ...  173.320007  170.990005   \n",
       "4        1847502.0              0.274171  ...   80.599998   79.139999   \n",
       "\n",
       "        Close   Adj Close      Volume  ticker  1dayret%  nextdayret%  \\\n",
       "0   78.559998   77.697357   2076500.0       A  1.341609    -0.852852   \n",
       "1   35.060001   34.596169   6969900.0     AAL -1.155894    -0.228190   \n",
       "2  166.000000  165.279968   1990200.0     AAP -0.682054    -2.825314   \n",
       "3  172.029999  169.807388  26114400.0    AAPL  0.643545    -0.563850   \n",
       "4   79.989998   73.424461   5564100.0    ABBV -0.658219    -1.550194   \n",
       "\n",
       "   Lit_VolumeRatio  Dark_VolumeRatio  \n",
       "0         0.125743          0.269028  \n",
       "1         0.165140          0.280863  \n",
       "2         0.123362          0.263314  \n",
       "3         0.121747          0.336122  \n",
       "4         0.118325          0.332040  \n",
       "\n",
       "[5 rows x 42 columns]"
      ]
     },
     "execution_count": 5,
     "metadata": {},
     "output_type": "execute_result"
    }
   ],
   "source": [
    "view['Lit_VolumeRatio'] = view['CBOE_TotalVolume']/view['Volume']\n",
    "view['Dark_VolumeRatio'] = view['NMS_TotalVolume']/view['Volume']\n",
    "view.head(5)"
   ]
  },
  {
   "cell_type": "code",
   "execution_count": 58,
   "metadata": {},
   "outputs": [],
   "source": [
    "view = view[abs(view['1dayret%']) < 50]\n",
    "view = view[abs(view['nextdayret%']) < 50]"
   ]
  },
  {
   "cell_type": "markdown",
   "metadata": {},
   "source": [
    "# Machine Learning Experiment"
   ]
  },
  {
   "cell_type": "code",
   "execution_count": 59,
   "metadata": {},
   "outputs": [
    {
     "name": "stdout",
     "output_type": "stream",
     "text": [
      "(138448, 43)\n",
      "(138448, 43)\n"
     ]
    }
   ],
   "source": [
    "from sklearn.linear_model import LinearRegression\n",
    "from sklearn import preprocessing\n",
    "from sklearn.ensemble import RandomForestClassifier\n",
    "from sklearn.metrics import confusion_matrix\n",
    "print(view.shape)\n",
    "view = view[~view.isin([np.nan, np.inf, -np.inf]).any(1)]\n",
    "print(view.shape)\n",
    "features = ['NMS_ShortRatio', 'CBOE_ShortRatio', 'Lit_VolumeRatio', 'Dark_VolumeRatio', '1dayret%']\n",
    "view['classification'] = np.where(view['nextdayret%']>1, 1, np.where(view['nextdayret%']<-1, -1, 0))\n",
    "label = 'classification'\n",
    "train = view[view['Date'] < '2020-02-15']\n",
    "test = view[view['Date'] > '2020-02-15']\n",
    "train_X = train[features]\n",
    "#train_X = preprocessing.scale(train_X)\n",
    "train_Y = train[label]\n",
    "test_X = test[features]\n",
    "#test_X = preprocessing.scale(test_X)\n",
    "test_Y = test[label]"
   ]
  },
  {
   "cell_type": "code",
   "execution_count": 60,
   "metadata": {},
   "outputs": [
    {
     "data": {
      "text/plain": [
       "-0.0017284496993419385"
      ]
     },
     "execution_count": 60,
     "metadata": {},
     "output_type": "execute_result"
    }
   ],
   "source": [
    "model = LinearRegression()\n",
    "model.fit(train_X, train_Y)\n",
    "model.score(test_X, test_Y)"
   ]
  },
  {
   "cell_type": "code",
   "execution_count": 61,
   "metadata": {},
   "outputs": [
    {
     "data": {
      "text/plain": [
       "0.2732590020106013"
      ]
     },
     "execution_count": 61,
     "metadata": {},
     "output_type": "execute_result"
    }
   ],
   "source": [
    "model = RandomForestClassifier(n_estimators=200)\n",
    "model.fit(train_X, train_Y)\n",
    "model.score(test_X, test_Y)"
   ]
  },
  {
   "cell_type": "code",
   "execution_count": 62,
   "metadata": {},
   "outputs": [
    {
     "data": {
      "text/plain": [
       "array([[ 1663, 11227,  2315],\n",
       "       [  598,  6748,   900],\n",
       "       [ 1564, 11228,  2054]], dtype=int64)"
      ]
     },
     "execution_count": 62,
     "metadata": {},
     "output_type": "execute_result"
    }
   ],
   "source": [
    "confusion_matrix(test_Y, model.predict(test_X))"
   ]
  },
  {
   "cell_type": "code",
   "execution_count": 63,
   "metadata": {},
   "outputs": [
    {
     "data": {
      "text/html": [
       "<div>\n",
       "<style scoped>\n",
       "    .dataframe tbody tr th:only-of-type {\n",
       "        vertical-align: middle;\n",
       "    }\n",
       "\n",
       "    .dataframe tbody tr th {\n",
       "        vertical-align: top;\n",
       "    }\n",
       "\n",
       "    .dataframe thead th {\n",
       "        text-align: right;\n",
       "    }\n",
       "</style>\n",
       "<table border=\"1\" class=\"dataframe\">\n",
       "  <thead>\n",
       "    <tr style=\"text-align: right;\">\n",
       "      <th></th>\n",
       "      <th>actual</th>\n",
       "      <th>predict</th>\n",
       "      <th>ret</th>\n",
       "    </tr>\n",
       "  </thead>\n",
       "  <tbody>\n",
       "    <tr>\n",
       "      <th>100159</th>\n",
       "      <td>0</td>\n",
       "      <td>0</td>\n",
       "      <td>0.660446</td>\n",
       "    </tr>\n",
       "    <tr>\n",
       "      <th>100160</th>\n",
       "      <td>-1</td>\n",
       "      <td>0</td>\n",
       "      <td>-1.047849</td>\n",
       "    </tr>\n",
       "    <tr>\n",
       "      <th>100161</th>\n",
       "      <td>-1</td>\n",
       "      <td>0</td>\n",
       "      <td>-1.191737</td>\n",
       "    </tr>\n",
       "    <tr>\n",
       "      <th>100162</th>\n",
       "      <td>1</td>\n",
       "      <td>-1</td>\n",
       "      <td>1.448274</td>\n",
       "    </tr>\n",
       "    <tr>\n",
       "      <th>100163</th>\n",
       "      <td>0</td>\n",
       "      <td>0</td>\n",
       "      <td>0.566176</td>\n",
       "    </tr>\n",
       "  </tbody>\n",
       "</table>\n",
       "</div>"
      ],
      "text/plain": [
       "        actual  predict       ret\n",
       "100159       0        0  0.660446\n",
       "100160      -1        0 -1.047849\n",
       "100161      -1        0 -1.191737\n",
       "100162       1       -1  1.448274\n",
       "100163       0        0  0.566176"
      ]
     },
     "execution_count": 63,
     "metadata": {},
     "output_type": "execute_result"
    }
   ],
   "source": [
    "result = pd.DataFrame()\n",
    "result['actual'] = test_Y\n",
    "result['predict'] = model.predict(test_X)\n",
    "result['ret'] = view['nextdayret%']\n",
    "result.head(5)"
   ]
  },
  {
   "cell_type": "code",
   "execution_count": 64,
   "metadata": {},
   "outputs": [
    {
     "data": {
      "text/plain": [
       "predict\n",
       "-1   -0.102048\n",
       " 0    0.024909\n",
       " 1   -0.078132\n",
       "Name: ret, dtype: float64"
      ]
     },
     "execution_count": 64,
     "metadata": {},
     "output_type": "execute_result"
    }
   ],
   "source": [
    "result.groupby('predict').ret.mean()"
   ]
  },
  {
   "cell_type": "code",
   "execution_count": 71,
   "metadata": {},
   "outputs": [
    {
     "data": {
      "text/plain": [
       "predict\n",
       "-1    6.948320\n",
       " 0    4.896743\n",
       " 1    5.989853\n",
       "Name: ret, dtype: float64"
      ]
     },
     "execution_count": 71,
     "metadata": {},
     "output_type": "execute_result"
    }
   ],
   "source": [
    "result.groupby('predict').ret.std()"
   ]
  },
  {
   "cell_type": "code",
   "execution_count": 66,
   "metadata": {},
   "outputs": [
    {
     "data": {
      "text/plain": [
       "predict\n",
       "-1     3825\n",
       " 0    29203\n",
       " 1     5269\n",
       "Name: ret, dtype: int64"
      ]
     },
     "execution_count": 66,
     "metadata": {},
     "output_type": "execute_result"
    }
   ],
   "source": [
    "result.groupby('predict').ret.count()"
   ]
  },
  {
   "cell_type": "code",
   "execution_count": 67,
   "metadata": {},
   "outputs": [
    {
     "data": {
      "text/plain": [
       "predict\n",
       "-1    42.192346\n",
       " 0    41.097036\n",
       " 1    41.015989\n",
       "Name: ret, dtype: float64"
      ]
     },
     "execution_count": 67,
     "metadata": {},
     "output_type": "execute_result"
    }
   ],
   "source": [
    "result.groupby('predict').ret.max()"
   ]
  },
  {
   "cell_type": "code",
   "execution_count": 68,
   "metadata": {},
   "outputs": [
    {
     "data": {
      "text/plain": [
       "predict\n",
       "-1   -46.852121\n",
       " 0   -37.755270\n",
       " 1   -44.645802\n",
       "Name: ret, dtype: float64"
      ]
     },
     "execution_count": 68,
     "metadata": {},
     "output_type": "execute_result"
    }
   ],
   "source": [
    "result.groupby('predict').ret.min()"
   ]
  },
  {
   "cell_type": "code",
   "execution_count": 69,
   "metadata": {},
   "outputs": [
    {
     "data": {
      "text/plain": [
       "predict\n",
       "-1   -11.161714\n",
       " 0    -7.552218\n",
       " 1    -9.260840\n",
       "Name: ret, dtype: float64"
      ]
     },
     "execution_count": 69,
     "metadata": {},
     "output_type": "execute_result"
    }
   ],
   "source": [
    "result.groupby('predict').ret.quantile(0.05)"
   ]
  },
  {
   "cell_type": "code",
   "execution_count": 70,
   "metadata": {},
   "outputs": [
    {
     "data": {
      "text/plain": [
       "predict\n",
       "-1    11.082019\n",
       " 0     7.718538\n",
       " 1     9.413094\n",
       "Name: ret, dtype: float64"
      ]
     },
     "execution_count": 70,
     "metadata": {},
     "output_type": "execute_result"
    }
   ],
   "source": [
    "result.groupby('predict').ret.quantile(0.95)"
   ]
  },
  {
   "cell_type": "markdown",
   "metadata": {},
   "source": [
    "# Quantile Research On DIX"
   ]
  },
  {
   "cell_type": "code",
   "execution_count": null,
   "metadata": {},
   "outputs": [],
   "source": [
    "dix_bin_ret = {}\n",
    "dp_vol = {}\n",
    "tickers = ['FB', 'AAPL', 'NFLX', 'CAT', 'MMM', 'JNJ', 'NVDA', 'AMD', 'AMZN']\n",
    "\n",
    "for ticker in tickers:\n",
    "    aapl = ts[ts['Symbol']==ticker]\n",
    "    aapl = pd.merge(aapl, stock_df[stock_df['Ticker']==ticker], on ='Date', how='inner')\n",
    "    aapl.index = aapl['Date']\n",
    "    aapl['nextday_ret'] = (aapl['Close'].shift(-1) - aapl['Close']) / aapl['Close'] * 100\n",
    "    aapl['darkPoolRatio'] = aapl['NMS_TotalVolume'] / aapl['Volume']\n",
    "    bin_labels = [i for i in range(5)]\n",
    "    aapl['bin'] = pd.qcut(aapl['NMS_ShortRatio'], q=5, labels=bin_labels)\n",
    "    dp_vol[ticker] = aapl.groupby('bin').darkPoolRatio.mean()\n",
    "    dix_bin_ret[ticker] = aapl.groupby('bin').nextday_ret.std()\n",
    "#     aapl['NMS_ShortRatio'].plot(figsize=(20,10), grid=True)\n",
    "#     plt.show()\n",
    "#     aapl['nextday_ret'].plot(figsize=(20,10), grid=True)"
   ]
  }
 ],
 "metadata": {
  "kernelspec": {
   "display_name": "Python 3",
   "language": "python",
   "name": "python3"
  },
  "language_info": {
   "codemirror_mode": {
    "name": "ipython",
    "version": 3
   },
   "file_extension": ".py",
   "mimetype": "text/x-python",
   "name": "python",
   "nbconvert_exporter": "python",
   "pygments_lexer": "ipython3",
   "version": "3.7.6"
  }
 },
 "nbformat": 4,
 "nbformat_minor": 4
}
